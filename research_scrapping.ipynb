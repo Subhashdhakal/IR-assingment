{
 "cells": [
  {
   "cell_type": "code",
   "execution_count": 8,
   "id": "b174664d",
   "metadata": {},
   "outputs": [
    {
     "name": "stdout",
     "output_type": "stream",
     "text": [
      "Data has been saved to research.json\n"
     ]
    }
   ],
   "source": [
    "import requests\n",
    "from bs4 import BeautifulSoup\n",
    "import json\n",
    "\n",
    "# The URL to start scraping from\n",
    "start_url = \"https://pureportal.coventry.ac.uk/en/organisations/eec-school-of-computing-mathematics-and-data-sciences-cmds/publications/\"\n",
    "\n",
    "# Send a GET request to the start URL\n",
    "response = requests.get(start_url)\n",
    "soup = BeautifulSoup(response.content, 'html.parser')\n",
    "\n",
    "# List to store all publication details\n",
    "publications = []\n",
    "\n",
    "# Loop through each publication result on the main page\n",
    "for result in soup.select('li.list-result-item'):\n",
    "    publication_url = result.select_one('h3.title a')['href']\n",
    "   \n",
    "    # Send a GET request to the publication page\n",
    "    pub_response = requests.get(publication_url)\n",
    "    pub_soup = BeautifulSoup(pub_response.content, 'html.parser')\n",
    "\n",
    "    # Extract the publication title\n",
    "    title = pub_soup.select_one('div.introduction div.rendering h1 span').get_text(strip=True)\n",
    "\n",
    "    # Extract authors with links\n",
    "    authors = []\n",
    "    for author in pub_soup.select('p.relations.persons a.link.person'):\n",
    "        author_name = author.select_one('span').get_text(strip=True)\n",
    "        author_link = author['href']\n",
    "        authors.append({'name': author_name, 'profile_link': author_link})\n",
    "\n",
    "    author_without_link = pub_soup.select_one('p.relations.persons ' )\n",
    "    for content in author_without_link.contents:\n",
    "        if isinstance(content, str):\n",
    "            for name in content.split(','):\n",
    "                if name.strip(' '):\n",
    "                    authors.append({'name' :name.strip()})\n",
    "        \n",
    "\n",
    "    # Extract the publication year\n",
    "    publication_year = pub_soup.select_one('tr.status span.date').get_text(strip=True)\n",
    "\n",
    "    # Append publication details to the list\n",
    "    publications.append({\n",
    "        'title': title,\n",
    "        'authors': authors,\n",
    "        'publication_year': publication_year,\n",
    "        'publication_link': publication_url\n",
    "    })\n",
    "\n",
    "# Save the publication details to a JSON file\n",
    "with open('research.json', 'w', encoding='utf-8') as f:\n",
    "    json.dump(publications, f, ensure_ascii=False, indent=4)\n",
    "\n",
    "print(\"Data has been saved to research.json\")\n"
   ]
  }
 ],
 "metadata": {
  "kernelspec": {
   "display_name": "Python 3 (ipykernel)",
   "language": "python",
   "name": "python3"
  },
  "language_info": {
   "codemirror_mode": {
    "name": "ipython",
    "version": 3
   },
   "file_extension": ".py",
   "mimetype": "text/x-python",
   "name": "python",
   "nbconvert_exporter": "python",
   "pygments_lexer": "ipython3",
   "version": "3.11.5"
  }
 },
 "nbformat": 4,
 "nbformat_minor": 5
}
